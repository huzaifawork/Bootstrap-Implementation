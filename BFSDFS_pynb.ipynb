{
  "nbformat": 4,
  "nbformat_minor": 0,
  "metadata": {
    "colab": {
      "provenance": [],
      "authorship_tag": "ABX9TyMPLijOryFhrmo9ZUYVO4Se",
      "include_colab_link": true
    },
    "kernelspec": {
      "name": "python3",
      "display_name": "Python 3"
    },
    "language_info": {
      "name": "python"
    }
  },
  "cells": [
    {
      "cell_type": "markdown",
      "metadata": {
        "id": "view-in-github",
        "colab_type": "text"
      },
      "source": [
        "<a href=\"https://colab.research.google.com/github/huzaifawork/Bootstrap-Implementation/blob/main/BFSDFS_pynb.ipynb\" target=\"_parent\"><img src=\"https://colab.research.google.com/assets/colab-badge.svg\" alt=\"Open In Colab\"/></a>"
      ]
    },
    {
      "cell_type": "markdown",
      "source": [
        "### BFS TREE,GRAPH"
      ],
      "metadata": {
        "id": "SzjOEvunThbT"
      }
    },
    {
      "cell_type": "code",
      "source": [
        "from collections import deque\n",
        "\n",
        "class TreeNode:\n",
        "    def __init__(self, value):\n",
        "        self.value = value\n",
        "        self.left = None\n",
        "        self.right = None\n",
        "\n",
        "def bfs_tree(root):\n",
        "    # Check if the tree is empty\n",
        "    if root is None:\n",
        "        return []\n",
        "\n",
        "    result = []  # Store the result of BFS traversal\n",
        "    queue = deque([root])  # Initialize a deque with the root node\n",
        "\n",
        "    # Perform BFS traversal\n",
        "    while queue:\n",
        "        node = queue.popleft()  # Pop the leftmost node from the deque\n",
        "        result.append(node.value)  # Add the value of the popped node to the result\n",
        "\n",
        "        # Add left and right children of the current node to the queue\n",
        "        if node.left:\n",
        "            queue.append(node.left)\n",
        "        if node.right:\n",
        "            queue.append(node.right)\n",
        "\n",
        "    return result\n",
        "\n",
        "def bfs_graph(graph, start):\n",
        "    # Check if the start node exists in the graph\n",
        "    if start not in graph:\n",
        "        return []\n",
        "\n",
        "    result = []  # Store the result of BFS traversal\n",
        "    visited = set()  # Set to keep track of visited nodes\n",
        "    queue = deque([start])  # Initialize a deque with the start node\n",
        "    visited.add(start)  # Mark the start node as visited\n",
        "\n",
        "    # Perform BFS traversal\n",
        "    while queue:\n",
        "        node = queue.popleft()  # Pop the leftmost node from the deque\n",
        "        result.append(node)  # Add the popped node to the result\n",
        "\n",
        "        # Explore neighbors of the current node\n",
        "        for neighbor in graph[node]:\n",
        "            # If neighbor is not visited, add it to the queue and mark it as visited\n",
        "            if neighbor not in visited:\n",
        "                queue.append(neighbor)\n",
        "                visited.add(neighbor)\n",
        "\n",
        "    return result\n",
        "\n",
        "# Example usage for tree\n",
        "# Constructing a binary tree\n",
        "root = TreeNode(1)\n",
        "root.left = TreeNode(2)\n",
        "root.right = TreeNode(3)\n",
        "root.left.left = TreeNode(4)\n",
        "root.left.right = TreeNode(5)\n",
        "root.right.left = TreeNode(6)\n",
        "root.right.right = TreeNode(7)\n",
        "\n",
        "print(\"BFS traversal of the tree:\", bfs_tree(root))\n",
        "\n",
        "# Example usage for graph\n",
        "# Constructing a graph using adjacency list\n",
        "graph = {\n",
        "    'A': ['B', 'C'],\n",
        "    'B': ['A', 'D', 'E'],\n",
        "    'C': ['A', 'F'],\n",
        "    'D': ['B'],\n",
        "    'E': ['B', 'F'],\n",
        "    'F': ['C', 'E']\n",
        "}\n",
        "\n",
        "start_node = 'A'\n",
        "print(\"BFS traversal of the graph:\", bfs_graph(graph, start_node))\n"
      ],
      "metadata": {
        "colab": {
          "base_uri": "https://localhost:8080/"
        },
        "id": "tIMSJe-cC5hO",
        "outputId": "ea305f67-08ef-432b-f01c-cfcaf3516dc8"
      },
      "execution_count": 37,
      "outputs": [
        {
          "output_type": "stream",
          "name": "stdout",
          "text": [
            "BFS traversal of the tree: [1, 2, 3, 4, 5, 6, 7]\n",
            "BFS traversal of the graph: ['A', 'B', 'C', 'D', 'E', 'F']\n"
          ]
        }
      ]
    },
    {
      "cell_type": "markdown",
      "source": [
        "# DFS TREE GRAPH"
      ],
      "metadata": {
        "id": "g-n18PD0TqpI"
      }
    },
    {
      "cell_type": "code",
      "source": [
        "class TreeNode:\n",
        "    def __init__(self, value):\n",
        "        self.value = value\n",
        "        self.left = None\n",
        "        self.right = None\n",
        "\n",
        "def dfs_tree(root):\n",
        "    # Check if the tree is empty\n",
        "    if root is None:\n",
        "        return []\n",
        "\n",
        "    result = []  # Store the result of DFS traversal\n",
        "    stack = [root]  # Initialize a stack with the root node\n",
        "\n",
        "    # Perform DFS traversal\n",
        "    while stack:\n",
        "        node = stack.pop()  # Pop the top node from the stack\n",
        "        result.append(node.value)  # Add the value of the popped node to the result\n",
        "\n",
        "        # Add right and left children of the current node to the stack\n",
        "        if node.right:\n",
        "            stack.append(node.right)\n",
        "        if node.left:\n",
        "            stack.append(node.left)\n",
        "\n",
        "    return result\n",
        "\n",
        "def dfs_graph(graph, start):\n",
        "    # Check if the start node exists in the graph\n",
        "    if start not in graph:\n",
        "        return []\n",
        "\n",
        "    result = []  # Store the result of DFS traversal\n",
        "    visited = set()  # Set to keep track of visited nodes\n",
        "    stack = [start]  # Initialize a stack with the start node\n",
        "\n",
        "    # Perform DFS traversal\n",
        "    while stack:\n",
        "        node = stack.pop()  # Pop the top node from the stack\n",
        "        if node not in visited:\n",
        "            result.append(node)  # Add the popped node to the result\n",
        "            visited.add(node)  # Mark the popped node as visited\n",
        "\n",
        "            # Explore neighbors of the current node in reverse order\n",
        "            for neighbor in reversed(graph[node]):\n",
        "                stack.append(neighbor)\n",
        "\n",
        "    return result\n",
        "\n",
        "# Example usage for tree\n",
        "# Constructing a binary tree\n",
        "root = TreeNode(1)\n",
        "root.left = TreeNode(2)\n",
        "root.right = TreeNode(3)\n",
        "root.left.left = TreeNode(4)\n",
        "root.left.right = TreeNode(5)\n",
        "root.right.left = TreeNode(6)\n",
        "root.right.right = TreeNode(7)\n",
        "\n",
        "print(\"DFS traversal of the tree:\", dfs_tree(root))\n",
        "\n",
        "# Example usage for graph\n",
        "# Constructing a graph using adjacency list\n",
        "graph = {\n",
        "    'A': ['B', 'C'],\n",
        "    'B': ['A', 'D', 'E'],\n",
        "    'C': ['A', 'F'],\n",
        "    'D': ['B'],\n",
        "    'E': ['B', 'F'],\n",
        "    'F': ['C', 'E']\n",
        "}\n",
        "\n",
        "start_node = 'A'\n",
        "print(\"DFS traversal of the graph:\", dfs_graph(graph, start_node))\n"
      ],
      "metadata": {
        "colab": {
          "base_uri": "https://localhost:8080/"
        },
        "id": "R1e54ywUGBKa",
        "outputId": "5f9602bd-5bb5-4179-c1d0-7259772ccddb"
      },
      "execution_count": 36,
      "outputs": [
        {
          "output_type": "stream",
          "name": "stdout",
          "text": [
            "DFS traversal of the tree: [1, 2, 4, 5, 3, 6, 7]\n",
            "DFS traversal of the graph: ['A', 'B', 'D', 'E', 'F', 'C']\n"
          ]
        }
      ]
    },
    {
      "cell_type": "markdown",
      "source": [
        "# QUESTION 2 : FINDING DFS,BFS TIME"
      ],
      "metadata": {
        "id": "_4fkHA5dTwEN"
      }
    },
    {
      "cell_type": "code",
      "source": [
        "import numpy as np\n",
        "import pandas as pd\n",
        "import time\n",
        "import matplotlib.pyplot as plt\n",
        "\n",
        "# Define a class for the nodes of the binary tree\n",
        "class Node:\n",
        "    def __init__(self, value):\n",
        "        self.value = value\n",
        "        self.left = None\n",
        "        self.right = None\n",
        "\n",
        "# Function to generate random unique numbers within given ranges\n",
        "def generate_random_unique_numbers(range_sizes):\n",
        "    random_numbers = []\n",
        "    for size in range_sizes:\n",
        "        random_numbers.append(np.random.choice(np.arange(1, size+1), size, replace=False))\n",
        "    return random_numbers\n",
        "\n",
        "# Function to build a binary tree from a list of numbers\n",
        "def build_tree(numbers):\n",
        "    root = None\n",
        "    for num in numbers:\n",
        "        root = insert(root, num)\n",
        "    return root\n",
        "\n",
        "# Function to insert a value into the binary tree\n",
        "def insert(root, value):\n",
        "    if root is None:\n",
        "        return Node(value)\n",
        "    if value < root.value:\n",
        "        root.left = insert(root.left, value)\n",
        "    else:\n",
        "        root.right = insert(root.right, value)\n",
        "    return root\n",
        "\n",
        "# Breadth-first search algorithm to find a node with a specific value in the tree\n",
        "def bfs(root, goal):\n",
        "    queue = [root]\n",
        "    while queue:\n",
        "        node = queue.pop(0)\n",
        "        if node.value == goal:\n",
        "            return True\n",
        "        if node.left:\n",
        "            queue.append(node.left)\n",
        "        if node.right:\n",
        "            queue.append(node.right)\n",
        "    return False\n",
        "\n",
        "# Depth-first search algorithm to find a node with a specific value in the tree\n",
        "def dfs(root, goal):\n",
        "    if root is None:\n",
        "        return False\n",
        "    if root.value == goal:\n",
        "        return True\n",
        "    left_result = dfs(root.left, goal)\n",
        "    right_result = dfs(root.right, goal)\n",
        "    return left_result or right_result\n",
        "\n",
        "# Function to measure the time taken by BFS and DFS search algorithms\n",
        "def measure_search_time(root, goal):\n",
        "    start_time = time.time()\n",
        "    bfs(root, goal)\n",
        "    bfs_time = time.time() - start_time\n",
        "\n",
        "    start_time = time.time()\n",
        "    dfs(root, goal)\n",
        "    dfs_time = time.time() - start_time\n",
        "\n",
        "    return bfs_time, dfs_time\n",
        "\n",
        "# Main function to execute the code\n",
        "def main():\n",
        "    # Define the range sizes for generating random numbers\n",
        "    range_sizes = [1000, 40000, 80000, 200000, 1000000]\n",
        "    results = []\n",
        "\n",
        "    # Iterate over different range sizes\n",
        "    for size in range_sizes:\n",
        "        # Generate random unique numbers for the current range size\n",
        "        numbers = generate_random_unique_numbers([size])[0]\n",
        "        # Build a binary tree from the generated numbers\n",
        "        tree = build_tree(numbers)\n",
        "        # Set a goal value for searching in the tree\n",
        "        goal = len(numbers) - 220\n",
        "        # Measure the search time for BFS and DFS algorithms\n",
        "        bfs_time, dfs_time = measure_search_time(tree, goal)\n",
        "        # Store the results\n",
        "        results.append([size, bfs_time, dfs_time])\n",
        "\n",
        "    # Create a pandas DataFrame from the results\n",
        "    df = pd.DataFrame(results, columns=['Range Size', 'BFS Time (s)', 'DFS Time (s)'])\n",
        "    print(df)\n",
        "\n",
        "    # Plotting the results\n",
        "    plt.figure(figsize=(10, 6))\n",
        "    plt.bar(df['Range Size'], df['BFS Time (s)'], color='blue', alpha=0.5, label='BFS')\n",
        "    plt.bar(df['Range Size'], df['DFS Time (s)'], color='red', alpha=0.5, label='DFS')\n",
        "    plt.xlabel('Range Size')\n",
        "    plt.ylabel('Time (s)')\n",
        "    plt.title('BFS and DFS Time Comparison')\n",
        "    plt.legend()\n",
        "    plt.xticks(df['Range Size'])\n",
        "    plt.show()\n",
        "\n",
        "# Execute the main function if this script is run directly\n",
        "if __name__ == \"__main__\":\n",
        "    main()\n"
      ],
      "metadata": {
        "colab": {
          "base_uri": "https://localhost:8080/",
          "height": 668
        },
        "id": "euhHt4mVHoNn",
        "outputId": "18a6ab64-7b70-41ea-a633-ae4cbd0a9d85"
      },
      "execution_count": 38,
      "outputs": [
        {
          "output_type": "stream",
          "name": "stdout",
          "text": [
            "   Range Size  BFS Time (s)  DFS Time (s)\n",
            "0        1000      0.000459      0.000592\n",
            "1       40000      0.003457      0.063431\n",
            "2       80000      0.018425      0.058470\n",
            "3      200000      0.470927      0.240125\n",
            "4     1000000      0.466219      0.951972\n"
          ]
        },
        {
          "output_type": "display_data",
          "data": {
            "text/plain": [
              "<Figure size 1000x600 with 1 Axes>"
            ],
            "image/png": "[encoded data removed]"
          },
          "metadata": {}
        }
      ]
    },
    {
      "cell_type": "markdown",
      "source": [
        "MAZE SOLUTION"
      ],
      "metadata": {
        "id": "_NBjcEPpUAyB"
      }
    },
    {
      "cell_type": "code",
      "source": [
        "import heapq  # Import the heapq module for heap-based priority queue implementation\n",
        "\n",
        "class Node:\n",
        "    def __init__(self, position, parent=None):\n",
        "        self.position = position  # Initialize node position\n",
        "        self.parent = parent  # Initialize parent node\n",
        "        self.g = 0  # Initialize cost from start node to current node\n",
        "        self.h = 0  # Initialize heuristic cost from current node to end node\n",
        "        self.f = 0  # Initialize total cost (g + h) for comparison in the priority queue\n",
        "\n",
        "    def __eq__(self, other):\n",
        "        return self.position == other.position  # Check if two nodes have the same position\n",
        "\n",
        "    def __lt__(self, other):\n",
        "        return self.f < other.f  # Implement less than comparison based on total cost 'f' for priority queue ordering\n",
        "\n",
        "def astar(maze, start, end):\n",
        "    # Create start and end node\n",
        "    start_node = Node(start, None)  # Initialize start node\n",
        "    end_node = Node(end, None)  # Initialize end node\n",
        "\n",
        "    # Initialize both open and closed list\n",
        "    open_list = []  # Priority queue for nodes to be evaluated\n",
        "    closed_list = []  # List for already evaluated nodes\n",
        "\n",
        "    # Add the start node\n",
        "    heapq.heappush(open_list, start_node)  # Push start node onto the priority queue\n",
        "\n",
        "    # Loop until you find the end\n",
        "    while len(open_list) > 0:  # Continue loop until all nodes are evaluated or end node is found\n",
        "        # Get the current node\n",
        "        current_node = heapq.heappop(open_list)  # Pop node with lowest total cost from the priority queue\n",
        "        closed_list.append(current_node)  # Add current node to the closed list\n",
        "\n",
        "        # Found the goal\n",
        "        if current_node == end_node:  # Check if current node is the goal node\n",
        "            path = []  # Initialize path list to store the final path\n",
        "            current = current_node\n",
        "            while current is not None:  # Backtrack from goal node to start node\n",
        "                path.append(current.position)  # Add current node position to the path\n",
        "                current = current.parent  # Move to the parent node\n",
        "            return path[::-1]  # Return reversed path (from start to end)\n",
        "\n",
        "        # Generate children\n",
        "        children = []  # Initialize list to store valid child nodes\n",
        "        for new_position in [(0, -1), (0, 1), (-1, 0), (1, 0)]:  # Adjacent squares (left, right, up, down)\n",
        "            # Get node position\n",
        "            node_position = (current_node.position[0] + new_position[0], current_node.position[1] + new_position[1])\n",
        "\n",
        "            # Make sure within range\n",
        "            if node_position[0] > (len(maze) - 1) or node_position[0] < 0 or node_position[1] > (len(maze[len(maze)-1]) - 1) or node_position[1] < 0:\n",
        "                continue  # Skip if the position is out of maze bounds\n",
        "\n",
        "            # Make sure walkable terrain\n",
        "            if maze[node_position[0]][node_position[1]] != 0:\n",
        "                continue  # Skip if the position is a wall\n",
        "\n",
        "            # Create new node\n",
        "            new_node = Node(node_position, current_node)  # Create a new node with the current node as parent\n",
        "\n",
        "            # Append\n",
        "            children.append(new_node)  # Add the new node to the list of children\n",
        "\n",
        "        # Loop through children\n",
        "        for child in children:  # Evaluate each child node\n",
        "            # Child is on the closed list\n",
        "            for closed_child in closed_list:  # Check if the child node is already evaluated\n",
        "                if child == closed_child:  # If the child node is in the closed list\n",
        "                    continue  # Skip evaluating this child\n",
        "\n",
        "            # Create the f, g, and h values\n",
        "            child.g = current_node.g + 1  # Increment the cost from the start node to the child node\n",
        "            child.h = ((child.position[0] - end_node.position[0]) ** 2) + ((child.position[1] - end_node.position[1]) ** 2)  # Calculate heuristic cost (Euclidean distance to end node)\n",
        "            child.f = child.g + child.h  # Calculate total cost (g + h) for the child node\n",
        "\n",
        "            # Child is already in the open list\n",
        "            for open_node in open_list:  # Check if the child node is already in the open list\n",
        "                if child == open_node and child.g > open_node.g:  # If the child node is in the open list and has a higher cost than the existing one\n",
        "                    continue  # Skip evaluating this child\n",
        "\n",
        "            # Add the child to the open list\n",
        "            heapq.heappush(open_list, child)  # Push the child node onto the priority queue\n",
        "\n",
        "    return None  # Return None if no path is found\n",
        "\n",
        "# Define the maze as a list of lists\n",
        "maze = [\n",
        "    [0, 1, 0, 0, 0, 0],\n",
        "    [0, 1, 0, 1, 1, 0],\n",
        "    [0, 1, 0, 1, 1, 0],\n",
        "    [0, 0, 0, 0, 1, 0],\n",
        "    [0, 1, 1, 0, 1, 0],\n",
        "    [0, 0, 0, 0, 0, 0]\n",
        "]\n",
        "\n",
        "# Define start and end points\n",
        "start = (0, 0)  # Assuming 'A' is at the top-left corner\n",
        "end = (5, 5)   # Assuming 'Y' is at the bottom-right corner\n",
        "\n",
        "# Find the shortest path using A* algorithm\n",
        "path = astar(maze, start, end)\n",
        "print(path)  # Print the shortest path\n"
      ],
      "metadata": {
        "colab": {
          "base_uri": "https://localhost:8080/"
        },
        "id": "C-SYwBq-T8OT",
        "outputId": "b0cabfae-6fda-4f3c-8789-05cd29f78e95"
      },
      "execution_count": 43,
      "outputs": [
        {
          "output_type": "stream",
          "name": "stdout",
          "text": [
            "[(0, 0), (1, 0), (2, 0), (3, 0), (3, 1), (3, 2), (3, 3), (4, 3), (5, 3), (5, 4), (5, 5)]\n"
          ]
        }
      ]
    },
    {
      "cell_type": "markdown",
      "source": [
        "# ALPHA BETA PRUNING ALGORITHM"
      ],
      "metadata": {
        "id": "SnDlpZxlT3IH"
      }
    },
    {
      "cell_type": "code",
      "source": [
        "def minimax_alpha_beta(node, depth, maximizing_player, alpha, beta):\n",
        "    # Base case: if reached maximum depth or node is a terminal node, return its evaluation\n",
        "    if depth == 0 or node.is_terminal():\n",
        "        return node.evaluate()\n",
        "\n",
        "    if maximizing_player:  # If it's maximizing player's turn\n",
        "        value = float('-inf')  # Initialize value to negative infinity\n",
        "        for child in node.get_children():  # For each child node\n",
        "            # Recursively call minimax on child node with depth decreased by 1\n",
        "            value = max(value, minimax_alpha_beta(child, depth - 1, False, alpha, beta))\n",
        "            alpha = max(alpha, value)  # Update alpha value\n",
        "            if alpha >= beta:  # If alpha is greater than or equal to beta, prune remaining branches\n",
        "                break\n",
        "        return value  # Return the maximum value found\n",
        "\n",
        "    else:  # If it's minimizing player's turn\n",
        "        value = float('inf')  # Initialize value to positive infinity\n",
        "        for child in node.get_children():  # For each child node\n",
        "            # Recursively call minimax on child node with depth decreased by 1\n",
        "            value = min(value, minimax_alpha_beta(child, depth - 1, True, alpha, beta))\n",
        "            beta = min(beta, value)  # Update beta value\n",
        "            if alpha >= beta:  # If alpha is greater than or equal to beta, prune remaining branches\n",
        "                break\n",
        "        return value  # Return the minimum value found\n",
        "\n",
        "# Example usage:\n",
        "class Node:\n",
        "    def __init__(self, value):\n",
        "        self.value = value\n",
        "        self.children = []  # List to store child nodes\n",
        "\n",
        "    def is_terminal(self):\n",
        "        return not self.children  # Check if the node is a terminal node (no children)\n",
        "\n",
        "    def evaluate(self):\n",
        "        return self.value  # Return the value of the node\n",
        "\n",
        "    def get_children(self):\n",
        "        return self.children  # Return the list of child nodes\n",
        "\n",
        "# Create a sample tree\n",
        "root = Node(3)  # Root node with value 3\n",
        "root.children = [Node(5), Node(2), Node(9)]  # Children of root node\n",
        "root.children[0].children = [Node(1), Node(8)]  # Children of first child of root node\n",
        "root.children[1].children = [Node(6), Node(7)]  # Children of second child of root node\n",
        "root.children[2].children = [Node(4)]  # Children of third child of root node\n",
        "\n",
        "# Call minimax with alpha-beta pruning\n",
        "best_value = minimax_alpha_beta(root, depth=3, maximizing_player=True, alpha=float('-inf'), beta=float('inf'))\n",
        "print(\"Best value:\", best_value)  # Print the best value found\n"
      ],
      "metadata": {
        "colab": {
          "base_uri": "https://localhost:8080/"
        },
        "id": "WvgbHCSoQSRY",
        "outputId": "6e633c49-7324-4c2c-baaf-fe9667249ee5"
      },
      "execution_count": 42,
      "outputs": [
        {
          "output_type": "stream",
          "name": "stdout",
          "text": [
            "Best value: 6\n"
          ]
        }
      ]
    }
  ]
}